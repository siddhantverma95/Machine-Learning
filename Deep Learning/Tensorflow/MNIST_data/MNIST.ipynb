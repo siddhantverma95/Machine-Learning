{
 "cells": [
  {
   "cell_type": "code",
   "execution_count": 1,
   "metadata": {},
   "outputs": [
    {
     "name": "stdout",
     "output_type": "stream",
     "text": [
      "Collecting tensorflow\n",
      "\u001b[?25l  Downloading https://files.pythonhosted.org/packages/ee/e6/a6d371306c23c2b01cd2cb38909673d17ddd388d9e4b3c0f6602bfd972c8/tensorflow-1.10.0-cp36-cp36m-manylinux1_x86_64.whl (58.4MB)\n",
      "\u001b[K    100% |████████████████████████████████| 58.4MB 604kB/s ta 0:00:013  16% |█████▎                          | 9.6MB 2.5MB/s eta 0:00:20    21% |███████                         | 12.7MB 3.3MB/s eta 0:00:14    72% |███████████████████████▏        | 42.2MB 1.8MB/s eta 0:00:10    95% |██████████████████████████████▌ | 55.7MB 2.2MB/s eta 0:00:02\n",
      "\u001b[?25hRequirement already satisfied, skipping upgrade: six>=1.10.0 in /home/sid/anaconda3/lib/python3.6/site-packages (from tensorflow) (1.11.0)\n",
      "Collecting numpy<=1.14.5,>=1.13.3 (from tensorflow)\n",
      "\u001b[?25l  Downloading https://files.pythonhosted.org/packages/68/1e/116ad560de97694e2d0c1843a7a0075cc9f49e922454d32f49a80eb6f1f2/numpy-1.14.5-cp36-cp36m-manylinux1_x86_64.whl (12.2MB)\n",
      "\u001b[K    100% |████████████████████████████████| 12.2MB 1.4MB/s ta 0:00:01   33% |██████████▋                     | 4.0MB 3.2MB/s eta 0:00:03\n",
      "\u001b[?25hRequirement already satisfied, skipping upgrade: grpcio>=1.8.6 in /home/sid/anaconda3/lib/python3.6/site-packages (from tensorflow) (1.14.0)\n",
      "Requirement already satisfied, skipping upgrade: wheel>=0.26 in /home/sid/anaconda3/lib/python3.6/site-packages (from tensorflow) (0.31.1)\n",
      "Requirement already satisfied, skipping upgrade: gast>=0.2.0 in /home/sid/anaconda3/lib/python3.6/site-packages (from tensorflow) (0.2.0)\n",
      "Collecting tensorboard<1.11.0,>=1.10.0 (from tensorflow)\n",
      "\u001b[?25l  Downloading https://files.pythonhosted.org/packages/c6/17/ecd918a004f297955c30b4fffbea100b1606c225dbf0443264012773c3ff/tensorboard-1.10.0-py3-none-any.whl (3.3MB)\n",
      "\u001b[K    100% |████████████████████████████████| 3.3MB 4.0MB/s ta 0:00:01\n",
      "\u001b[?25hRequirement already satisfied, skipping upgrade: absl-py>=0.1.6 in /home/sid/anaconda3/lib/python3.6/site-packages (from tensorflow) (0.3.0)\n",
      "Requirement already satisfied, skipping upgrade: termcolor>=1.1.0 in /home/sid/anaconda3/lib/python3.6/site-packages (from tensorflow) (1.1.0)\n",
      "Requirement already satisfied, skipping upgrade: setuptools<=39.1.0 in /home/sid/anaconda3/lib/python3.6/site-packages (from tensorflow) (39.1.0)\n",
      "Requirement already satisfied, skipping upgrade: astor>=0.6.0 in /home/sid/anaconda3/lib/python3.6/site-packages (from tensorflow) (0.7.1)\n",
      "Requirement already satisfied, skipping upgrade: protobuf>=3.6.0 in /home/sid/anaconda3/lib/python3.6/site-packages (from tensorflow) (3.6.0)\n",
      "Requirement already satisfied, skipping upgrade: werkzeug>=0.11.10 in /home/sid/anaconda3/lib/python3.6/site-packages (from tensorboard<1.11.0,>=1.10.0->tensorflow) (0.14.1)\n",
      "Requirement already satisfied, skipping upgrade: markdown>=2.6.8 in /home/sid/anaconda3/lib/python3.6/site-packages (from tensorboard<1.11.0,>=1.10.0->tensorflow) (2.6.11)\n",
      "Installing collected packages: numpy, tensorboard, tensorflow\n",
      "  Found existing installation: numpy 1.15.0\n",
      "    Uninstalling numpy-1.15.0:\n",
      "      Successfully uninstalled numpy-1.15.0\n",
      "  Found existing installation: tensorboard 1.9.0\n",
      "    Uninstalling tensorboard-1.9.0:\n",
      "      Successfully uninstalled tensorboard-1.9.0\n",
      "  Found existing installation: tensorflow 1.9.0\n",
      "    Uninstalling tensorflow-1.9.0:\n",
      "      Successfully uninstalled tensorflow-1.9.0\n",
      "Successfully installed numpy-1.14.5 tensorboard-1.10.0 tensorflow-1.10.0\n"
     ]
    }
   ],
   "source": [
    "!pip install -U tensorflow"
   ]
  },
  {
   "cell_type": "code",
   "execution_count": 2,
   "metadata": {},
   "outputs": [
    {
     "name": "stderr",
     "output_type": "stream",
     "text": [
      "/home/sid/anaconda3/lib/python3.6/site-packages/h5py/__init__.py:36: FutureWarning: Conversion of the second argument of issubdtype from `float` to `np.floating` is deprecated. In future, it will be treated as `np.float64 == np.dtype(float).type`.\n",
      "  from ._conv import register_converters as _register_converters\n"
     ]
    }
   ],
   "source": [
    "import tensorflow as tf"
   ]
  },
  {
   "cell_type": "code",
   "execution_count": 3,
   "metadata": {},
   "outputs": [],
   "source": [
    "from __future__ import print_function\n",
    "import shutil\n",
    "import os.path\n",
    "import matplotlib.pyplot as plt\n",
    "from IPython.display import display, Image\n",
    "import tensorflow as tf\n",
    "from tensorflow.examples.tutorials.mnist import input_data"
   ]
  },
  {
   "cell_type": "code",
   "execution_count": 4,
   "metadata": {},
   "outputs": [
    {
     "name": "stdout",
     "output_type": "stream",
     "text": [
      "WARNING:tensorflow:From <ipython-input-4-a839aeb82f4b>:1: read_data_sets (from tensorflow.contrib.learn.python.learn.datasets.mnist) is deprecated and will be removed in a future version.\n",
      "Instructions for updating:\n",
      "Please use alternatives such as official/mnist/dataset.py from tensorflow/models.\n",
      "WARNING:tensorflow:From /home/sid/anaconda3/lib/python3.6/site-packages/tensorflow/contrib/learn/python/learn/datasets/mnist.py:260: maybe_download (from tensorflow.contrib.learn.python.learn.datasets.base) is deprecated and will be removed in a future version.\n",
      "Instructions for updating:\n",
      "Please write your own downloading logic.\n",
      "WARNING:tensorflow:From /home/sid/anaconda3/lib/python3.6/site-packages/tensorflow/contrib/learn/python/learn/datasets/mnist.py:262: extract_images (from tensorflow.contrib.learn.python.learn.datasets.mnist) is deprecated and will be removed in a future version.\n",
      "Instructions for updating:\n",
      "Please use tf.data to implement this functionality.\n",
      "Extracting MNIST_data/train-images-idx3-ubyte.gz\n",
      "WARNING:tensorflow:From /home/sid/anaconda3/lib/python3.6/site-packages/tensorflow/contrib/learn/python/learn/datasets/mnist.py:267: extract_labels (from tensorflow.contrib.learn.python.learn.datasets.mnist) is deprecated and will be removed in a future version.\n",
      "Instructions for updating:\n",
      "Please use tf.data to implement this functionality.\n",
      "Extracting MNIST_data/train-labels-idx1-ubyte.gz\n",
      "WARNING:tensorflow:From /home/sid/anaconda3/lib/python3.6/site-packages/tensorflow/contrib/learn/python/learn/datasets/mnist.py:110: dense_to_one_hot (from tensorflow.contrib.learn.python.learn.datasets.mnist) is deprecated and will be removed in a future version.\n",
      "Instructions for updating:\n",
      "Please use tf.one_hot on tensors.\n",
      "Extracting MNIST_data/t10k-images-idx3-ubyte.gz\n",
      "Extracting MNIST_data/t10k-labels-idx1-ubyte.gz\n",
      "WARNING:tensorflow:From /home/sid/anaconda3/lib/python3.6/site-packages/tensorflow/contrib/learn/python/learn/datasets/mnist.py:290: DataSet.__init__ (from tensorflow.contrib.learn.python.learn.datasets.mnist) is deprecated and will be removed in a future version.\n",
      "Instructions for updating:\n",
      "Please use alternatives such as official/mnist/dataset.py from tensorflow/models.\n"
     ]
    }
   ],
   "source": [
    "mnist = input_data.read_data_sets(\"MNIST_data/\", one_hot=True)"
   ]
  },
  {
   "cell_type": "markdown",
   "metadata": {},
   "source": [
    "# Setting up Parameters\n",
    "\n",
    "This will our tuning knobs for our MNIST Model"
   ]
  },
  {
   "cell_type": "code",
   "execution_count": 5,
   "metadata": {},
   "outputs": [],
   "source": [
    "learning_rate = 0.001\n",
    "training_iters = 20000\n",
    "batch_size = 128\n",
    "display_step = 10"
   ]
  },
  {
   "cell_type": "markdown",
   "metadata": {},
   "source": [
    "# Network parameters"
   ]
  },
  {
   "cell_type": "code",
   "execution_count": 6,
   "metadata": {},
   "outputs": [],
   "source": [
    "n_input = 28*28\n",
    "n_classes = 10\n",
    "dropout = 0.75"
   ]
  },
  {
   "cell_type": "markdown",
   "metadata": {},
   "source": [
    "# tf graph input"
   ]
  },
  {
   "cell_type": "code",
   "execution_count": 7,
   "metadata": {},
   "outputs": [],
   "source": [
    "x = tf.placeholder(tf.float32, [None, n_input])\n",
    "y = tf.placeholder(tf.float32, [None, n_classes])\n",
    "keep_prob = tf.placeholder(tf.float32) #dropout(keep probability)"
   ]
  },
  {
   "cell_type": "markdown",
   "metadata": {},
   "source": [
    "# Create layer wrapper"
   ]
  },
  {
   "cell_type": "code",
   "execution_count": 8,
   "metadata": {},
   "outputs": [],
   "source": [
    "def conv2d(x, w, b, strides=1):\n",
    "    #Conv2d wrapper, with bias and relu activation\n",
    "    x = tf.nn.conv2d(x, w, strides=[1,strides,strides,1],padding='SAME')\n",
    "    x = tf.nn.bias_add(x,b)\n",
    "    return tf.nn.relu(x)"
   ]
  },
  {
   "cell_type": "code",
   "execution_count": 9,
   "metadata": {},
   "outputs": [],
   "source": [
    "def maxpool2d(x, k=2):\n",
    "    #MaxPool2d wrapper\n",
    "    return tf.nn.max_pool(x, ksize=[1,k,k,1], strides=[1,k,k,1],padding='SAME')"
   ]
  },
  {
   "cell_type": "markdown",
   "metadata": {},
   "source": [
    "# Store layers weight & bias"
   ]
  },
  {
   "cell_type": "code",
   "execution_count": 10,
   "metadata": {},
   "outputs": [],
   "source": [
    "weights = {\n",
    "    #5x5 conv, 1 input, 32  outputs\n",
    "    'wc1': tf.Variable(tf.random_normal([5,5,1,32])),\n",
    "    #5x5 conv, 32 inputs, 64 outputs\n",
    "    'wc2': tf.Variable(tf.random_normal([5,5,32,64])),\n",
    "    #fully connected, 7*7*64 inputs, 1024 outputs\n",
    "    'wd1': tf.Variable(tf.random_normal([7*7*64, 1024])),\n",
    "    #1024 inputs, 10 outputs (class prediction)\n",
    "    'out': tf.Variable(tf.random_normal([1024, n_classes]))\n",
    "}"
   ]
  },
  {
   "cell_type": "code",
   "execution_count": 11,
   "metadata": {},
   "outputs": [],
   "source": [
    "biases = {\n",
    "    'bc1': tf.Variable(tf.random_normal([32])),\n",
    "    'bc2': tf.Variable(tf.random_normal([64])),\n",
    "    'bd1': tf.Variable(tf.random_normal([1024])),\n",
    "    'out': tf.Variable(tf.random_normal([n_classes]))\n",
    "}"
   ]
  },
  {
   "cell_type": "markdown",
   "metadata": {},
   "source": [
    "# Creating our Sequential Neural Network"
   ]
  },
  {
   "cell_type": "code",
   "execution_count": 12,
   "metadata": {},
   "outputs": [],
   "source": [
    "def conv_net(x, weights, biases, dropout):\n",
    "    #Reshape input picture\n",
    "    x = tf.reshape(x, shape=[-1,28,28,1])\n",
    "    \n",
    "    #Convolution Layer\n",
    "    conv1 = conv2d(x, weights['wc1'], biases['bc1'])\n",
    "    #Max Pooling\n",
    "    conv1 = maxpool2d(conv1, k=2)\n",
    "    \n",
    "    #Convolution Layer\n",
    "    conv2 = conv2d(conv1, weights['wc2'], biases['bc2'])\n",
    "    #Max Pooling\n",
    "    conv2 = maxpool2d(conv2, k=2)\n",
    "    \n",
    "    #Fully connected Layer\n",
    "    #Reshape conv2 output to fit fully connected layer input\n",
    "    fc1 = tf.reshape(conv2, [-1, weights['wd1'].get_shape().as_list()[0]])\n",
    "    fc1 = tf.add(tf.matmul(fc1, weights['wd1']), biases['bd1'])\n",
    "    fc1 = tf.nn.relu(fc1)\n",
    "    #Apply Dropout\n",
    "    fc1 = tf.nn.dropout(fc1, dropout)\n",
    "    \n",
    "    #Output, class prediction\n",
    "    out = tf.add(tf.matmul(fc1, weights['out']), biases['out'])\n",
    "    return out"
   ]
  },
  {
   "cell_type": "code",
   "execution_count": 13,
   "metadata": {},
   "outputs": [],
   "source": [
    "EXPORT_DIR = '/home/sid/Desktop/tensorflow/'"
   ]
  },
  {
   "cell_type": "markdown",
   "metadata": {},
   "source": [
    "# Construct model"
   ]
  },
  {
   "cell_type": "code",
   "execution_count": null,
   "metadata": {},
   "outputs": [
    {
     "name": "stdout",
     "output_type": "stream",
     "text": [
      "WARNING:tensorflow:From <ipython-input-14-91362c37da4e>:4: softmax_cross_entropy_with_logits (from tensorflow.python.ops.nn_ops) is deprecated and will be removed in a future version.\n",
      "Instructions for updating:\n",
      "\n",
      "Future major versions of TensorFlow will allow gradients to flow\n",
      "into the labels input on backprop by default.\n",
      "\n",
      "See @{tf.nn.softmax_cross_entropy_with_logits_v2}.\n",
      "\n",
      "WARNING:tensorflow:From /home/sid/anaconda3/lib/python3.6/site-packages/tensorflow/python/util/tf_should_use.py:118: initialize_all_variables (from tensorflow.python.ops.variables) is deprecated and will be removed after 2017-03-02.\n",
      "Instructions for updating:\n",
      "Use `tf.global_variables_initializer` instead.\n",
      "Iter 1280, Minibatch Loss= 26427.568359, Training Accuracy= 0.29688\n",
      "Iter 2560, Minibatch Loss= 11429.310547, Training Accuracy= 0.53906\n",
      "Iter 3840, Minibatch Loss= 5434.896973, Training Accuracy= 0.66406\n",
      "Iter 5120, Minibatch Loss= 2484.625977, Training Accuracy= 0.80469\n",
      "Iter 6400, Minibatch Loss= 2558.153809, Training Accuracy= 0.80469\n",
      "Iter 7680, Minibatch Loss= 3869.490723, Training Accuracy= 0.78906\n",
      "Iter 8960, Minibatch Loss= 3164.463135, Training Accuracy= 0.82031\n",
      "Iter 10240, Minibatch Loss= 1616.154297, Training Accuracy= 0.89844\n",
      "Iter 11520, Minibatch Loss= 2798.760010, Training Accuracy= 0.80469\n",
      "Iter 12800, Minibatch Loss= 1887.491211, Training Accuracy= 0.88281\n",
      "Iter 14080, Minibatch Loss= 2861.651855, Training Accuracy= 0.85156\n",
      "Iter 15360, Minibatch Loss= 762.082703, Training Accuracy= 0.94531\n",
      "Iter 16640, Minibatch Loss= 1186.193726, Training Accuracy= 0.92188\n",
      "Iter 17920, Minibatch Loss= 1669.734009, Training Accuracy= 0.89062\n",
      "Iter 19200, Minibatch Loss= 2139.594238, Training Accuracy= 0.89844\n",
      "Optimization Finished!\n",
      "Testing Accuracy: 0.9375\n"
     ]
    }
   ],
   "source": [
    "pred = conv_net(x, weights, biases, keep_prob)\n",
    "\n",
    "#Define loss and optimizer\n",
    "cost = tf.reduce_mean(tf.nn.softmax_cross_entropy_with_logits(logits=pred, labels=y))\n",
    "optimizer = tf.train.AdamOptimizer(learning_rate=learning_rate).minimize(cost)\n",
    "\n",
    "#Evaluate model\n",
    "correct_pred = tf.equal(tf.argmax(pred, 1), tf.argmax(y, 1))\n",
    "accuracy = tf.reduce_mean(tf.cast(correct_pred, tf.float32))\n",
    "\n",
    "#Initializing the variables\n",
    "init = tf.initialize_all_variables()\n",
    "\n",
    "#Launch the graph\n",
    "with tf.Session() as sess:\n",
    "    sess.run(init)\n",
    "    step = 1\n",
    "    # Keep training until reach max iterations\n",
    "    while step * batch_size < training_iters:\n",
    "        batch_x, batch_y = mnist.train.next_batch(batch_size)\n",
    "        # Run optimization op (backprop)\n",
    "        sess.run(optimizer, feed_dict={x: batch_x, y: batch_y,\n",
    "                                       keep_prob: dropout})\n",
    "        if step % display_step == 0:\n",
    "            # Calculate batch loss and accuracy\n",
    "            loss, acc = sess.run([cost, accuracy], feed_dict={x: batch_x,\n",
    "                                                              y: batch_y,\n",
    "                                                              keep_prob: 1.})\n",
    "            print(\"Iter \" + str(step * batch_size) + \", Minibatch Loss= \" + \\\n",
    "                  \"{:.6f}\".format(loss) + \", Training Accuracy= \" + \\\n",
    "                  \"{:.5f}\".format(acc))\n",
    "        step += 1\n",
    "    print(\"Optimization Finished!\")\n",
    "\n",
    "    # Calculate accuracy for 256 mnist test images\n",
    "    print(\"Testing Accuracy:\", \\\n",
    "          sess.run(accuracy, feed_dict={x: mnist.test.images[:256],\n",
    "                                        y: mnist.test.labels[:256],\n",
    "                                        keep_prob: 1.}))\n",
    "    WC1 = weights['wc1'].eval(sess)\n",
    "    BC1 = biases['bc1'].eval(sess)\n",
    "    WC2 = weights['wc2'].eval(sess)\n",
    "    BC2 = biases['bc2'].eval(sess)\n",
    "    WD1 = weights['wd1'].eval(sess)\n",
    "    BD1 = biases['bd1'].eval(sess)\n",
    "    W_OUT = weights['out'].eval(sess)\n",
    "    B_OUT = biases['out'].eval(sess)\n",
    "\n",
    "# Create new graph for exporting\n",
    "g = tf.Graph()\n",
    "with g.as_default():\n",
    "    x_2 = tf.placeholder(\"float\", shape=[None, 784], name=\"input\")\n",
    "\n",
    "    WC1 = tf.constant(WC1, name=\"WC1\")\n",
    "    BC1 = tf.constant(BC1, name=\"BC1\")\n",
    "    x_image = tf.reshape(x_2, [-1, 28, 28, 1])\n",
    "    CONV1 = conv2d(x_image, WC1, BC1)\n",
    "    MAXPOOL1 = maxpool2d(CONV1, k=2)\n",
    "\n",
    "    WC2 = tf.constant(WC2, name=\"WC2\")\n",
    "    BC2 = tf.constant(BC2, name=\"BC2\")\n",
    "    CONV2 = conv2d(MAXPOOL1, WC2, BC2)\n",
    "    MAXPOOL2 = maxpool2d(CONV2, k=2)\n",
    "\n",
    "    WD1 = tf.constant(WD1, name=\"WD1\")\n",
    "    BD1 = tf.constant(BD1, name=\"BD1\")\n",
    "\n",
    "    FC1 = tf.reshape(MAXPOOL2, [-1, WD1.get_shape().as_list()[0]])\n",
    "    FC1 = tf.add(tf.matmul(FC1, WD1), BD1)\n",
    "    FC1 = tf.nn.relu(FC1)\n",
    "\n",
    "    W_OUT = tf.constant(W_OUT, name=\"W_OUT\")\n",
    "    B_OUT = tf.constant(B_OUT, name=\"B_OUT\")\n",
    "\n",
    "    # skipped dropout for exported graph as there \n",
    "    # is no need for already calculated weights\n",
    "\n",
    "    OUTPUT = tf.nn.softmax(tf.matmul(FC1, W_OUT) + B_OUT, name=\"output\")\n",
    "\n",
    "    sess = tf.Session()\n",
    "    init = tf.initialize_all_variables()\n",
    "    sess.run(init)\n",
    "\n",
    "    graph_def = g.as_graph_def()\n",
    "    tf.train.write_graph(graph_def, EXPORT_DIR, 'mnist_model_graph.pb', as_text=False)\n",
    "\n",
    "    # Test trained model\n",
    "    y_train = tf.placeholder(\"float\", [None, 10])\n",
    "    correct_prediction = tf.equal(tf.argmax(OUTPUT, 1), tf.argmax(y_train, 1))\n",
    "    accuracy = tf.reduce_mean(tf.cast(correct_prediction, \"float\"))\n",
    "\n",
    "    print(\"check accuracy %g\" % accuracy.eval(\n",
    "            {x_2: mnist.test.images, y_train: mnist.test.labels}, sess))"
   ]
  },
  {
   "cell_type": "markdown",
   "metadata": {},
   "source": [
    "# Training of the model finished with testing accuracy of 93.75%"
   ]
  }
 ],
 "metadata": {
  "kernelspec": {
   "display_name": "Python 3",
   "language": "python",
   "name": "python3"
  },
  "language_info": {
   "codemirror_mode": {
    "name": "ipython",
    "version": 3
   },
   "file_extension": ".py",
   "mimetype": "text/x-python",
   "name": "python",
   "nbconvert_exporter": "python",
   "pygments_lexer": "ipython3",
   "version": "3.6.4"
  }
 },
 "nbformat": 4,
 "nbformat_minor": 2
}
